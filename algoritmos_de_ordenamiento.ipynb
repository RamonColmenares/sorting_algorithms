{
  "nbformat": 4,
  "nbformat_minor": 0,
  "metadata": {
    "colab": {
      "provenance": []
    },
    "kernelspec": {
      "name": "python3",
      "display_name": "Python 3"
    },
    "language_info": {
      "name": "python"
    }
  },
  "cells": [
    {
      "cell_type": "code",
      "execution_count": null,
      "metadata": {
        "id": "_iWdQ9QIfXyt"
      },
      "outputs": [],
      "source": [
        "def bubble_sort(lista):\n",
        "    n = len(lista)\n",
        "    for i in range(n):\n",
        "        for j in range(0, n-i-1):\n",
        "            if lista[j] > lista[j+1]:\n",
        "                lista[j], lista[j+1] = lista[j+1], lista[j]\n",
        "            print(f\"Iteración {i}-{j}: {lista}\")\n",
        "    return lista\n",
        "\n",
        "# Ejemplo:w\n",
        "lista = [64, 34, 25, 12, 22, 11, 90]\n",
        "print(\"Lista original:\", lista)\n",
        "lista_ordenada = bubble_sort(lista)\n",
        "print(\"Lista ordenada:\", lista_ordenada)"
      ]
    },
    {
      "cell_type": "code",
      "source": [
        "def selection_sort(arr):\n",
        "    n = len(arr)\n",
        "    for i in range(n):\n",
        "        min_idx = i\n",
        "        for j in range(i+1, n):\n",
        "            if arr[j] < arr[min_idx]:\n",
        "                min_idx = j\n",
        "        arr[i], arr[min_idx] = arr[min_idx], arr[i]\n",
        "        print(f\"Iteración {i}: {arr}\")\n",
        "\n",
        "# Ejemplo de uso\n",
        "arr = [64, 25, 12, 22, 11]\n",
        "print(\"Array original:\", arr)\n",
        "selection_sort(arr)\n",
        "print(\"Array ordenado:\", arr)"
      ],
      "metadata": {
        "id": "mLpZ7Q33fhzc"
      },
      "execution_count": null,
      "outputs": []
    },
    {
      "cell_type": "code",
      "source": [
        "def insertion_sort(arr):\n",
        "    for i in range(1, len(arr)):\n",
        "        key = arr[i]\n",
        "        j = i-1\n",
        "        while j >= 0 and key < arr[j]:\n",
        "            arr[j + 1] = arr[j]\n",
        "            j -= 1\n",
        "        arr[j + 1] = key\n",
        "        print(f\"Iteración {i}: {arr}\")\n",
        "\n",
        "# Ejemplo de uso\n",
        "arr = [12, 11, 13, 5, 6]\n",
        "print(\"Array original:\", arr)\n",
        "insertion_sort(arr)\n",
        "print(\"Array ordenado:\", arr)"
      ],
      "metadata": {
        "id": "FbLd7Z5lfjaC"
      },
      "execution_count": null,
      "outputs": []
    },
    {
      "cell_type": "code",
      "source": [
        "def merge_sort(arr):\n",
        "    if len(arr) > 1:\n",
        "        mid = len(arr) // 2\n",
        "        L = arr[:mid]\n",
        "        R = arr[mid:]\n",
        "\n",
        "        print(f\"Dividir: {arr} -> {L} y {R}\")\n",
        "\n",
        "        merge_sort(L)\n",
        "        merge_sort(R)\n",
        "\n",
        "        i = j = k = 0\n",
        "\n",
        "        while i < len(L) and j < len(R):\n",
        "            if L[i] < R[j]:\n",
        "                arr[k] = L[i]\n",
        "                i += 1\n",
        "            else:\n",
        "                arr[k] = R[j]\n",
        "                j += 1\n",
        "            k += 1\n",
        "\n",
        "        while i < len(L):\n",
        "            arr[k] = L[i]\n",
        "            i += 1\n",
        "            k += 1\n",
        "\n",
        "        while j < len(R):\n",
        "            arr[k] = R[j]\n",
        "            j += 1\n",
        "            k += 1\n",
        "\n",
        "        print(f\"Fusionar: {L} y {R} -> {arr}\")\n",
        "\n",
        "# Ejemplo de uso\n",
        "arr = [12, 11, 13, 5, 6, 7]\n",
        "print(\"Array original:\", arr)\n",
        "merge_sort(arr)\n",
        "print(\"Array ordenado:\", arr)"
      ],
      "metadata": {
        "id": "_zrt3UtQfmhm"
      },
      "execution_count": null,
      "outputs": []
    },
    {
      "cell_type": "code",
      "source": [
        "def quick_sort(arr):\n",
        "    if len(arr) <= 1:\n",
        "        return arr\n",
        "    else:\n",
        "        pivot = arr[len(arr) // 2]\n",
        "        left = [x for x in arr if x < pivot]\n",
        "        middle = [x for x in arr if x == pivot]\n",
        "        right = [x for x in arr if x > pivot]\n",
        "        print(f\"Pivot: {pivot} -> Izquierda: {left}, Medio: {middle}, Derecha: {right}\")\n",
        "        return quick_sort(left) + middle + quick_sort(right)\n",
        "\n",
        "# Ejemplo de uso\n",
        "arr = [10, 7, 8, 9, 1, 5]\n",
        "print(\"Array original:\", arr)\n",
        "sorted_arr = quick_sort(arr)\n",
        "print(\"Array ordenado:\", sorted_arr)"
      ],
      "metadata": {
        "id": "by8XOvWQfoey"
      },
      "execution_count": null,
      "outputs": []
    }
  ]
}
